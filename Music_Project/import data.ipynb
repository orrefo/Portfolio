{
 "cells": [
  {
   "cell_type": "code",
   "execution_count": 1,
   "metadata": {},
   "outputs": [],
   "source": [
    "import pandas as pd\n",
    "import numpy as np"
   ]
  },
  {
   "cell_type": "code",
   "execution_count": 24,
   "metadata": {},
   "outputs": [],
   "source": [
    "url=\"https://raw.githubusercontent.com/orrefo/Music/refs/heads/main/\""
   ]
  },
  {
   "cell_type": "code",
   "execution_count": 25,
   "metadata": {},
   "outputs": [],
   "source": [
    "artist=pd.read_csv(url+\"artist.csv\",index_col=0)\n",
    "artist=artist.drop_duplicates()"
   ]
  },
  {
   "cell_type": "code",
   "execution_count": 27,
   "metadata": {},
   "outputs": [],
   "source": [
    "mapping=pd.read_csv(url+\"mapping.csv\",index_col=0)\n",
    "mapping=mapping.drop_duplicates()"
   ]
  },
  {
   "cell_type": "code",
   "execution_count": 29,
   "metadata": {},
   "outputs": [],
   "source": [
    "chart=pd.read_csv(url+\"chart.csv\",index_col=0)\n",
    "chart=chart.drop_duplicates()"
   ]
  },
  {
   "cell_type": "code",
   "execution_count": 31,
   "metadata": {},
   "outputs": [],
   "source": [
    "tracks=pd.read_csv(url+\"tracks.csv\",index_col=0)\n",
    "tracks=tracks.drop_duplicates()"
   ]
  },
  {
   "cell_type": "code",
   "execution_count": 33,
   "metadata": {},
   "outputs": [],
   "source": [
    "audio=pd.read_csv(url+\"audio_1.csv\",index_col=0)\n",
    "audio=audio.drop_duplicates()"
   ]
  },
  {
   "cell_type": "code",
   "execution_count": 35,
   "metadata": {},
   "outputs": [],
   "source": [
    "map_artist=pd.merge(mapping,artist,left_on='artist_id',right_on='artist_id',how='left')\n",
    "artist_track=pd.merge(map_artist,tracks,left_on='track_id',right_on='track_id',how='left')\n",
    "artist_track_audio=pd.merge(artist_track ,audio,left_on='track_id',right_on='track_id',how='left')\n",
    "all=pd.merge(chart ,artist_track_audio ,left_on='track_id',right_on='track_id',how='left')"
   ]
  },
  {
   "cell_type": "code",
   "execution_count": 38,
   "metadata": {},
   "outputs": [],
   "source": [
    "all=pd.merge(chart ,artist_track_audio ,left_on='track_id',right_on='track_id',how='left')\n"
   ]
  },
  {
   "cell_type": "code",
   "execution_count": 39,
   "metadata": {},
   "outputs": [],
   "source": [
    "all.rename(columns={'name_x':'artist','name_y':'track_title'},inplace=True)"
   ]
  },
  {
   "cell_type": "code",
   "execution_count": 40,
   "metadata": {},
   "outputs": [],
   "source": [
    "all['chart_week'] = pd.to_datetime(all['chart_week'], format='%Y-%m-%d', errors='coerce')"
   ]
  },
  {
   "cell_type": "code",
   "execution_count": 41,
   "metadata": {},
   "outputs": [],
   "source": [
    "all[['release_year','del_1','del2']]=all['release_date'].str.split('-', expand=True)"
   ]
  },
  {
   "cell_type": "code",
   "execution_count": 42,
   "metadata": {},
   "outputs": [],
   "source": [
    "all['duration_s']=round(all['duration_ms']/1000,0).astype('int')"
   ]
  },
  {
   "cell_type": "code",
   "execution_count": 43,
   "metadata": {},
   "outputs": [],
   "source": [
    "all.drop(columns=['duration_ms','del_1', 'del2'], inplace= True)"
   ]
  },
  {
   "cell_type": "code",
   "execution_count": 44,
   "metadata": {},
   "outputs": [],
   "source": [
    "all['release_year']=all['release_year'].astype('int')"
   ]
  },
  {
   "cell_type": "code",
   "execution_count": 45,
   "metadata": {},
   "outputs": [],
   "source": [
    "all['explicit']=all['explicit'].astype('bool')"
   ]
  },
  {
   "cell_type": "code",
   "execution_count": 46,
   "metadata": {},
   "outputs": [],
   "source": [
    "key_mapping = {\n",
    "    0: \"C\",\n",
    "    1: \"C♯ / D♭\",\n",
    "    2: \"D\",\n",
    "    3: \"D♯ / E♭\",\n",
    "    4: \"E\",\n",
    "    5: \"F\",\n",
    "    6: \"F♯ / G♭\",\n",
    "    7: \"G\",\n",
    "    8: \"G♯ / A♭\",\n",
    "    9: \"A\",\n",
    "    10: \"A♯ / B♭\",\n",
    "    11: \"B\"\n",
    "}\n"
   ]
  },
  {
   "cell_type": "code",
   "execution_count": 47,
   "metadata": {},
   "outputs": [],
   "source": [
    "all['key_mapped']=all['key'].map(key_mapping)"
   ]
  },
  {
   "cell_type": "code",
   "execution_count": 48,
   "metadata": {},
   "outputs": [
    {
     "data": {
      "text/html": [
       "<div>\n",
       "<style scoped>\n",
       "    .dataframe tbody tr th:only-of-type {\n",
       "        vertical-align: middle;\n",
       "    }\n",
       "\n",
       "    .dataframe tbody tr th {\n",
       "        vertical-align: top;\n",
       "    }\n",
       "\n",
       "    .dataframe thead th {\n",
       "        text-align: right;\n",
       "    }\n",
       "</style>\n",
       "<table border=\"1\" class=\"dataframe\">\n",
       "  <thead>\n",
       "    <tr style=\"text-align: right;\">\n",
       "      <th></th>\n",
       "      <th>chart_week</th>\n",
       "      <th>list_position</th>\n",
       "      <th>track_id</th>\n",
       "    </tr>\n",
       "  </thead>\n",
       "  <tbody>\n",
       "    <tr>\n",
       "      <th>0</th>\n",
       "      <td>2021-07-10</td>\n",
       "      <td>42</td>\n",
       "      <td>000TJlEJQ3nafsm1hBWpoj</td>\n",
       "    </tr>\n",
       "    <tr>\n",
       "      <th>1</th>\n",
       "      <td>2003-07-19</td>\n",
       "      <td>60</td>\n",
       "      <td>003FTlCpBTM4eSqYSWPv4H</td>\n",
       "    </tr>\n",
       "    <tr>\n",
       "      <th>2</th>\n",
       "      <td>2003-07-26</td>\n",
       "      <td>60</td>\n",
       "      <td>003FTlCpBTM4eSqYSWPv4H</td>\n",
       "    </tr>\n",
       "    <tr>\n",
       "      <th>3</th>\n",
       "      <td>2003-08-02</td>\n",
       "      <td>64</td>\n",
       "      <td>003FTlCpBTM4eSqYSWPv4H</td>\n",
       "    </tr>\n",
       "    <tr>\n",
       "      <th>4</th>\n",
       "      <td>2003-07-12</td>\n",
       "      <td>66</td>\n",
       "      <td>003FTlCpBTM4eSqYSWPv4H</td>\n",
       "    </tr>\n",
       "    <tr>\n",
       "      <th>...</th>\n",
       "      <td>...</td>\n",
       "      <td>...</td>\n",
       "      <td>...</td>\n",
       "    </tr>\n",
       "    <tr>\n",
       "      <th>129300</th>\n",
       "      <td>2004-04-17</td>\n",
       "      <td>74</td>\n",
       "      <td>7zywdG4ysfC5XNBzjQAo2o</td>\n",
       "    </tr>\n",
       "    <tr>\n",
       "      <th>129301</th>\n",
       "      <td>2004-08-07</td>\n",
       "      <td>80</td>\n",
       "      <td>7zywdG4ysfC5XNBzjQAo2o</td>\n",
       "    </tr>\n",
       "    <tr>\n",
       "      <th>129302</th>\n",
       "      <td>2004-08-14</td>\n",
       "      <td>81</td>\n",
       "      <td>7zywdG4ysfC5XNBzjQAo2o</td>\n",
       "    </tr>\n",
       "    <tr>\n",
       "      <th>129303</th>\n",
       "      <td>2004-08-21</td>\n",
       "      <td>82</td>\n",
       "      <td>7zywdG4ysfC5XNBzjQAo2o</td>\n",
       "    </tr>\n",
       "    <tr>\n",
       "      <th>129304</th>\n",
       "      <td>2004-08-28</td>\n",
       "      <td>83</td>\n",
       "      <td>7zywdG4ysfC5XNBzjQAo2o</td>\n",
       "    </tr>\n",
       "  </tbody>\n",
       "</table>\n",
       "<p>129305 rows × 3 columns</p>\n",
       "</div>"
      ],
      "text/plain": [
       "        chart_week  list_position                track_id\n",
       "0       2021-07-10             42  000TJlEJQ3nafsm1hBWpoj\n",
       "1       2003-07-19             60  003FTlCpBTM4eSqYSWPv4H\n",
       "2       2003-07-26             60  003FTlCpBTM4eSqYSWPv4H\n",
       "3       2003-08-02             64  003FTlCpBTM4eSqYSWPv4H\n",
       "4       2003-07-12             66  003FTlCpBTM4eSqYSWPv4H\n",
       "...            ...            ...                     ...\n",
       "129300  2004-04-17             74  7zywdG4ysfC5XNBzjQAo2o\n",
       "129301  2004-08-07             80  7zywdG4ysfC5XNBzjQAo2o\n",
       "129302  2004-08-14             81  7zywdG4ysfC5XNBzjQAo2o\n",
       "129303  2004-08-21             82  7zywdG4ysfC5XNBzjQAo2o\n",
       "129304  2004-08-28             83  7zywdG4ysfC5XNBzjQAo2o\n",
       "\n",
       "[129305 rows x 3 columns]"
      ]
     },
     "execution_count": 48,
     "metadata": {},
     "output_type": "execute_result"
    }
   ],
   "source": [
    "chart"
   ]
  },
  {
   "cell_type": "code",
   "execution_count": 49,
   "metadata": {},
   "outputs": [],
   "source": [
    "all['score']=round((-15.79*np.log(all['list_position']+1)+88.06)*1.3,0).astype('int')"
   ]
  },
  {
   "cell_type": "code",
   "execution_count": 50,
   "metadata": {},
   "outputs": [],
   "source": [
    "all.to_csv('all.csv')"
   ]
  },
  {
   "cell_type": "code",
   "execution_count": 52,
   "metadata": {},
   "outputs": [
    {
     "name": "stdout",
     "output_type": "stream",
     "text": [
      "<class 'pandas.core.frame.DataFrame'>\n",
      "RangeIndex: 175529 entries, 0 to 175528\n",
      "Data columns (total 27 columns):\n",
      " #   Column            Non-Null Count   Dtype         \n",
      "---  ------            --------------   -----         \n",
      " 0   chart_week        175529 non-null  datetime64[ns]\n",
      " 1   list_position     175529 non-null  int64         \n",
      " 2   track_id          175529 non-null  object        \n",
      " 3   artist_id         175529 non-null  object        \n",
      " 4   artist            175529 non-null  object        \n",
      " 5   popularity        175529 non-null  float64       \n",
      " 6   followers         175529 non-null  float64       \n",
      " 7   track_title       175529 non-null  object        \n",
      " 8   release_date      175529 non-null  object        \n",
      " 9   album_type        175529 non-null  object        \n",
      " 10  explicit          175529 non-null  bool          \n",
      " 11  danceability      175449 non-null  float64       \n",
      " 12  energy            175449 non-null  float64       \n",
      " 13  key               175449 non-null  float64       \n",
      " 14  loudness          175449 non-null  float64       \n",
      " 15  mode              175449 non-null  float64       \n",
      " 16  speechiness       175449 non-null  float64       \n",
      " 17  acousticness      175449 non-null  float64       \n",
      " 18  instrumentalness  175449 non-null  float64       \n",
      " 19  liveness          175449 non-null  float64       \n",
      " 20  valence           175449 non-null  float64       \n",
      " 21  tempo             175449 non-null  float64       \n",
      " 22  time_signature    175449 non-null  float64       \n",
      " 23  release_year      175529 non-null  int32         \n",
      " 24  duration_s        175529 non-null  int32         \n",
      " 25  key_mapped        175449 non-null  object        \n",
      " 26  score             175529 non-null  int32         \n",
      "dtypes: bool(1), datetime64[ns](1), float64(14), int32(3), int64(1), object(7)\n",
      "memory usage: 33.0+ MB\n"
     ]
    }
   ],
   "source": [
    "all.info()"
   ]
  },
  {
   "cell_type": "code",
   "execution_count": null,
   "metadata": {},
   "outputs": [],
   "source": []
  }
 ],
 "metadata": {
  "kernelspec": {
   "display_name": "base",
   "language": "python",
   "name": "python3"
  },
  "language_info": {
   "codemirror_mode": {
    "name": "ipython",
    "version": 3
   },
   "file_extension": ".py",
   "mimetype": "text/x-python",
   "name": "python",
   "nbconvert_exporter": "python",
   "pygments_lexer": "ipython3",
   "version": "3.12.7"
  }
 },
 "nbformat": 4,
 "nbformat_minor": 2
}
